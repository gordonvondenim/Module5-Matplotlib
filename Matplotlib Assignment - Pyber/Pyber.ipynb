{
 "cells": [
  {
   "cell_type": "code",
   "execution_count": 5,
   "metadata": {},
   "outputs": [
    {
     "name": "stdout",
     "output_type": "stream",
     "text": [
      "            city,driver_count,type\n",
      "0             Richardfort,38,Urban\n",
      "1            Williamsstad,59,Urban\n",
      "2             Port Angela,67,Urban\n",
      "3              Rodneyfort,34,Urban\n",
      "4             West Robert,39,Urban\n",
      "5            West Anthony,70,Urban\n",
      "6             West Angela,48,Urban\n",
      "7           Martinezhaven,25,Urban\n",
      "8               Karenberg,22,Urban\n",
      "9             Barajasview,26,Urban\n",
      "10             Robertport,12,Urban\n",
      "11           Joneschester,39,Urban\n",
      "12                Leahton,17,Urban\n",
      "13   West Christopherberg,32,Urban\n",
      "14                Johnton,27,Urban\n",
      "15           Reynoldsfurt,67,Urban\n",
      "16              Port David,7,Urban\n",
      "17    New Kimberlyborough,33,Urban\n",
      "18            Carriemouth,52,Urban\n",
      "19              Rogerston,25,Urban\n",
      "20               Jerryton,64,Urban\n",
      "21              Loganberg,23,Urban\n",
      "22           Simpsonburgh,21,Urban\n",
      "23             Port Frank,23,Urban\n",
      "24           South Latoya,10,Urban\n",
      "25       West Samuelburgh,73,Urban\n",
      "26            Grahamburgh,61,Urban\n",
      "27    West Patrickchester,25,Urban\n",
      "28         North Madeline,19,Urban\n",
      "29             South Jack,46,Urban\n",
      "..                             ...\n",
      "90       Barronchester,11,Suburban\n",
      "91         Brandonfort,10,Suburban\n",
      "92     East Danielview,22,Suburban\n",
      "93       East Marymouth,5,Suburban\n",
      "94         Mezachester,14,Suburban\n",
      "95            Lewisland,4,Suburban\n",
      "96          Josephside,25,Suburban\n",
      "97           Davidfurt,23,Suburban\n",
      "98       Nicolechester,19,Suburban\n",
      "99       East Aaronbury,7,Suburban\n",
      "100  North Richardhaven,1,Suburban\n",
      "101      North Jeffrey,11,Suburban\n",
      "102         South Jennifer,7,Rural\n",
      "103           West Heather,4,Rural\n",
      "104             Newtonview,1,Rural\n",
      "105            North Holly,8,Rural\n",
      "106            Michaelberg,6,Rural\n",
      "107            Taylorhaven,1,Rural\n",
      "108            Penaborough,6,Rural\n",
      "109         Harringtonfort,4,Rural\n",
      "110             Lake Jamie,4,Rural\n",
      "111        Lake Latoyabury,2,Rural\n",
      "112            North Jaime,1,Rural\n",
      "113      South Marychester,1,Rural\n",
      "114              Garzaport,7,Rural\n",
      "115           Bradshawfurt,7,Rural\n",
      "116           New Ryantown,2,Rural\n",
      "117         Randallchester,9,Rural\n",
      "118            Jessicaport,1,Rural\n",
      "119        South Saramouth,7,Rural\n",
      "\n",
      "[120 rows x 1 columns]\n"
     ]
    },
    {
     "ename": "AttributeError",
     "evalue": "'NoneType' object has no attribute 'head'",
     "output_type": "error",
     "traceback": [
      "\u001b[1;31m---------------------------------------------------------------------------\u001b[0m",
      "\u001b[1;31mAttributeError\u001b[0m                            Traceback (most recent call last)",
      "\u001b[1;32m<ipython-input-5-d0dc3638d2df>\u001b[0m in \u001b[0;36m<module>\u001b[1;34m\u001b[0m\n\u001b[0;32m     16\u001b[0m \u001b[1;33m\u001b[0m\u001b[0m\n\u001b[0;32m     17\u001b[0m \u001b[1;31m# Display the data table for preview\u001b[0m\u001b[1;33m\u001b[0m\u001b[1;33m\u001b[0m\u001b[1;33m\u001b[0m\u001b[0m\n\u001b[1;32m---> 18\u001b[1;33m \u001b[0mprint\u001b[0m\u001b[1;33m(\u001b[0m\u001b[0mcity_data\u001b[0m\u001b[1;33m)\u001b[0m\u001b[1;33m.\u001b[0m\u001b[0mhead\u001b[0m\u001b[1;33m(\u001b[0m\u001b[1;36m10\u001b[0m\u001b[1;33m)\u001b[0m\u001b[1;33m\u001b[0m\u001b[1;33m\u001b[0m\u001b[0m\n\u001b[0m",
      "\u001b[1;31mAttributeError\u001b[0m: 'NoneType' object has no attribute 'head'"
     ]
    }
   ],
   "source": [
    "%matplotlib inline\n",
    "# Dependencies and Setup\n",
    "import matplotlib.pyplot as plt\n",
    "import pandas as pd\n",
    "import numpy as np\n",
    "\n",
    "# File to Load (Remember to change these)\n",
    "city_data_to_load = \"data/city_data.csv\"\n",
    "ride_data_to_load = \"data/ride_data.csv\"\n",
    "\n",
    "# Read the City and Ride Data\n",
    "city_data = pd.read_csv(city_data_to_load)\n",
    "ride_data = pd.read_csv(ride_data_to_load)\n",
    "\n",
    "# Combine the data into a single dataset\n",
    "\n",
    "# Display the data table for preview\n"
   ]
  },
  {
   "cell_type": "code",
   "execution_count": null,
   "metadata": {},
   "outputs": [],
   "source": [
    "# Obtain the x and y coordinates for each of the three city types\n",
    "\n",
    "# Build the scatter plots for each city types\n",
    "\n",
    "# Incorporate the other graph properties\n",
    "\n",
    "# Create a legend\n",
    "\n",
    "# Incorporate a text label regarding circle size\n",
    "\n",
    "# Save Figure"
   ]
  }
 ],
 "metadata": {
  "kernelspec": {
   "display_name": "Python 3",
   "language": "python",
   "name": "python3"
  },
  "language_info": {
   "codemirror_mode": {
    "name": "ipython",
    "version": 3
   },
   "file_extension": ".py",
   "mimetype": "text/x-python",
   "name": "python",
   "nbconvert_exporter": "python",
   "pygments_lexer": "ipython3",
   "version": "3.7.1"
  }
 },
 "nbformat": 4,
 "nbformat_minor": 2
}
